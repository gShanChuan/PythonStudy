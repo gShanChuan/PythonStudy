{
 "metadata": {
  "language_info": {
   "codemirror_mode": {
    "name": "ipython",
    "version": 3
   },
   "file_extension": ".py",
   "mimetype": "text/x-python",
   "name": "python",
   "nbconvert_exporter": "python",
   "pygments_lexer": "ipython3",
   "version": "3.7.0-final"
  },
  "orig_nbformat": 2,
  "kernelspec": {
   "name": "Python 3.7.0 64-bit ('base': conda)",
   "display_name": "Python 3.7.0 64-bit ('base': conda)",
   "metadata": {
    "interpreter": {
     "hash": "80115caba699ad47e3c2fa292743474a9c67ff7e9678a79130978450794ea090"
    }
   }
  }
 },
 "nbformat": 4,
 "nbformat_minor": 2,
 "cells": [
  {
   "source": [
    "面向对象：  \n",
    "__多态__:可对不同类型的对象执行相同的操作  \n",
    "__封装__：对外部隐藏有关对象的工作细节  \n",
    "__继承__：提高代码复用性  \n",
    "\n"
   ],
   "cell_type": "markdown",
   "metadata": {}
  },
  {
   "source": [
    "# 7.2 类"
   ],
   "cell_type": "markdown",
   "metadata": {}
  },
  {
   "source": [
    "## 7.2.2 自定义类"
   ],
   "cell_type": "markdown",
   "metadata": {}
  },
  {
   "source": [
    "self:将对象作为第一个参数传入函数，可以取其他名，通常取self"
   ],
   "cell_type": "markdown",
   "metadata": {}
  },
  {
   "cell_type": "code",
   "execution_count": 8,
   "metadata": {},
   "outputs": [
    {
     "output_type": "stream",
     "name": "stdout",
     "text": [
      "hello,world! I am zfk\nhello,world! I am gsc\n"
     ]
    }
   ],
   "source": [
    "class Person:\n",
    "    def setName(self,name):\n",
    "        self.name=name\n",
    "    def getName(self):\n",
    "        return self.name\n",
    "    def greet(e):\n",
    "        print('hello,world! I am {}'.format(e.name))\n",
    "foo  = Person()\n",
    "bar = Person()\n",
    "foo.setName('zfk')\n",
    "bar.setName('gsc')\n",
    "foo.greet()\n",
    "bar.greet()\n"
   ]
  },
  {
   "source": [
    "__实例.方法（） == 类.方法(实例)__"
   ],
   "cell_type": "markdown",
   "metadata": {}
  },
  {
   "cell_type": "code",
   "execution_count": 10,
   "metadata": {},
   "outputs": [
    {
     "output_type": "stream",
     "name": "stdout",
     "text": [
      "hello,world! I am zfk\nhello,world! I am zfk\n"
     ]
    }
   ],
   "source": [
    "bar=Person()\n",
    "bar.setName('zfk')\n",
    "bar.greet()\n",
    "Person.greet(bar)"
   ]
  },
  {
   "cell_type": "code",
   "execution_count": null,
   "metadata": {},
   "outputs": [],
   "source": []
  }
 ]
}