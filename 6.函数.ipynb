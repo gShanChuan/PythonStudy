{
 "metadata": {
  "language_info": {
   "codemirror_mode": {
    "name": "ipython",
    "version": 3
   },
   "file_extension": ".py",
   "mimetype": "text/x-python",
   "name": "python",
   "nbconvert_exporter": "python",
   "pygments_lexer": "ipython3",
   "version": "3.7.0-final"
  },
  "orig_nbformat": 2,
  "kernelspec": {
   "name": "python3",
   "display_name": "Python 3"
  }
 },
 "nbformat": 4,
 "nbformat_minor": 2,
 "cells": [
  {
   "source": [
    "# 6.3 自定义函数"
   ],
   "cell_type": "markdown",
   "metadata": {}
  },
  {
   "source": [
    "callable 判断某个对象是否可以被调用"
   ],
   "cell_type": "markdown",
   "metadata": {}
  },
  {
   "cell_type": "code",
   "execution_count": 30,
   "metadata": {},
   "outputs": [
    {
     "output_type": "stream",
     "name": "stdout",
     "text": [
      "False\nTrue\n"
     ]
    }
   ],
   "source": [
    "import math\n",
    "x = 1\n",
    "y = math.sqrt\n",
    "print(callable(x))\n",
    "print(callable(y))"
   ]
  },
  {
   "source": [
    "def 自定义函数"
   ],
   "cell_type": "markdown",
   "metadata": {}
  },
  {
   "cell_type": "code",
   "execution_count": 31,
   "metadata": {},
   "outputs": [
    {
     "output_type": "stream",
     "name": "stdout",
     "text": [
      "hello, zenggong!\n"
     ]
    }
   ],
   "source": [
    "def hello(name):\n",
    "    return 'hello, ' + name + '!'\n",
    "print(hello('zenggong'))"
   ]
  },
  {
   "cell_type": "code",
   "execution_count": 32,
   "metadata": {},
   "outputs": [
    {
     "output_type": "stream",
     "name": "stdout",
     "text": [
      "[0, 1, 1, 2, 3, 5, 8, 13, 21, 34]\n"
     ]
    }
   ],
   "source": [
    "def fibs(num):\n",
    "    result=[0,1]\n",
    "    for i in range(num-2):\n",
    "        result.append(result[-2]+result[-1])\n",
    "    return result\n",
    "print(fibs(10))"
   ]
  },
  {
   "source": [
    "## 6.3.1 给函数编写文档"
   ],
   "cell_type": "markdown",
   "metadata": {}
  },
  {
   "cell_type": "code",
   "execution_count": 33,
   "metadata": {},
   "outputs": [
    {
     "output_type": "execute_result",
     "data": {
      "text/plain": [
       "'计算输入值的平方大小'"
      ]
     },
     "metadata": {},
     "execution_count": 33
    }
   ],
   "source": [
    "def square(x):\n",
    "    '计算输入值的平方大小'\n",
    "    return x * x\n",
    "square.__doc__"
   ]
  },
  {
   "source": [
    "help 获取有关函数的信息 其中包含函数的文档字符串"
   ],
   "cell_type": "markdown",
   "metadata": {}
  },
  {
   "cell_type": "code",
   "execution_count": 34,
   "metadata": {},
   "outputs": [
    {
     "output_type": "stream",
     "name": "stdout",
     "text": [
      "Help on function square in module __main__:\n\nsquare(x)\n    计算输入值的平方大小\n\n"
     ]
    }
   ],
   "source": [
    "help(square)"
   ]
  },
  {
   "source": [
    "## 6.3.2 函数返回值"
   ],
   "cell_type": "markdown",
   "metadata": {}
  },
  {
   "source": [
    "什么都不返回的函数 返回None"
   ],
   "cell_type": "markdown",
   "metadata": {}
  },
  {
   "cell_type": "code",
   "execution_count": 35,
   "metadata": {},
   "outputs": [
    {
     "output_type": "stream",
     "name": "stdout",
     "text": [
      "This is printed\nx: None\n"
     ]
    }
   ],
   "source": [
    "def test():\n",
    "    print('This is printed')\n",
    "    return\n",
    "    print('This is not')\n",
    "x=test()\n",
    "print('x:',x)"
   ]
  },
  {
   "source": [
    "可以返回多个值 实际为tuple 省略括号"
   ],
   "cell_type": "markdown",
   "metadata": {}
  },
  {
   "cell_type": "code",
   "execution_count": 36,
   "metadata": {},
   "outputs": [
    {
     "output_type": "stream",
     "name": "stdout",
     "text": [
      "(1, 2, 3)\n"
     ]
    }
   ],
   "source": [
    "def test():\n",
    "    return 1,2,3\n",
    "x=test()\n",
    "print(x)"
   ]
  },
  {
   "source": [
    "# 6.4 参数"
   ],
   "cell_type": "markdown",
   "metadata": {}
  },
  {
   "source": [
    "字符串、数、元祖不可变  \n",
    "列表、字典可变"
   ],
   "cell_type": "markdown",
   "metadata": {}
  },
  {
   "source": [
    "## 6.4.3 关键字参数和默认值"
   ],
   "cell_type": "markdown",
   "metadata": {}
  },
  {
   "source": [
    "关键字参数 使用名称指定的参数"
   ],
   "cell_type": "markdown",
   "metadata": {}
  },
  {
   "cell_type": "code",
   "execution_count": 37,
   "metadata": {},
   "outputs": [
    {
     "output_type": "stream",
     "name": "stdout",
     "text": [
      "hello,world!\nhello,world!\n"
     ]
    }
   ],
   "source": [
    "def hello_1(greeting, name ):\n",
    "    print('{},{}!'.format(greeting,name))\n",
    "def hello_2(name, greeting ):\n",
    "    print('{},{}!'.format(name,greeting))\n",
    "hello_1('hello','world')\n",
    "hello_2('hello','world')\n"
   ]
  },
  {
   "source": [
    "上例必须按照参数的排列顺序赋值"
   ],
   "cell_type": "markdown",
   "metadata": {}
  },
  {
   "cell_type": "code",
   "execution_count": 38,
   "metadata": {},
   "outputs": [
    {
     "output_type": "stream",
     "name": "stdout",
     "text": [
      "hello,world!\n"
     ]
    }
   ],
   "source": [
    "hello_1(greeting='hello',name='world')"
   ]
  },
  {
   "cell_type": "code",
   "execution_count": 39,
   "metadata": {},
   "outputs": [
    {
     "output_type": "stream",
     "name": "stdout",
     "text": [
      "world,hello!\n"
     ]
    }
   ],
   "source": [
    "hello_2(greeting='hello',name='world')"
   ]
  },
  {
   "source": [
    "利用名称赋值 每个参数的作用清晰明了"
   ],
   "cell_type": "markdown",
   "metadata": {}
  },
  {
   "source": [
    "另一个重要作用__指定默认值__"
   ],
   "cell_type": "markdown",
   "metadata": {}
  },
  {
   "cell_type": "code",
   "execution_count": 40,
   "metadata": {},
   "outputs": [],
   "source": [
    "def hello_3(greeting='hello',name='world'):\n",
    "    print('{},{}!'.format(greeting,name))"
   ]
  },
  {
   "source": [
    "调用带有默认值的函数时，可以根据需要，__一个参数值也不提供，提供部分参数值或者全部参数值__"
   ],
   "cell_type": "markdown",
   "metadata": {}
  },
  {
   "cell_type": "code",
   "execution_count": 41,
   "metadata": {},
   "outputs": [
    {
     "output_type": "stream",
     "name": "stdout",
     "text": [
      "hello,world!\ngreeting,world!\ngreeting,univers!\n"
     ]
    }
   ],
   "source": [
    "hello_3()\n",
    "hello_3('greeting')\n",
    "hello_3('greeting','univers')"
   ]
  },
  {
   "source": [
    "若想跳过部分参数值，如下"
   ],
   "cell_type": "markdown",
   "metadata": {}
  },
  {
   "cell_type": "code",
   "execution_count": 42,
   "metadata": {},
   "outputs": [
    {
     "output_type": "stream",
     "name": "stdout",
     "text": [
      "hello,Gsc!\n"
     ]
    }
   ],
   "source": [
    "hello_3(name='Gsc')"
   ]
  },
  {
   "source": [
    "__关键字参数必须在位置参数的后面__"
   ],
   "cell_type": "markdown",
   "metadata": {}
  },
  {
   "cell_type": "code",
   "execution_count": 43,
   "metadata": {},
   "outputs": [
    {
     "output_type": "error",
     "ename": "SyntaxError",
     "evalue": "positional argument follows keyword argument (<ipython-input-43-8d67e6014660>, line 3)",
     "traceback": [
      "\u001b[0;36m  File \u001b[0;32m\"<ipython-input-43-8d67e6014660>\"\u001b[0;36m, line \u001b[0;32m3\u001b[0m\n\u001b[0;31m    positionKeyword(z=2,1,3)\u001b[0m\n\u001b[0m                       ^\u001b[0m\n\u001b[0;31mSyntaxError\u001b[0m\u001b[0;31m:\u001b[0m positional argument follows keyword argument\n"
     ]
    }
   ],
   "source": [
    "def positionKeyword(x,y,z):\n",
    "    print(x,y,z)\n",
    "positionKeyword(z=2,1,3)"
   ]
  },
  {
   "source": [
    "python函数在解析参数时, 是按照顺序来的, 位置参数是必须先满足, 才能考虑其他可变参数"
   ],
   "cell_type": "markdown",
   "metadata": {}
  },
  {
   "source": [
    "## 6.4.4 收集参数"
   ],
   "cell_type": "markdown",
   "metadata": {}
  },
  {
   "source": [
    "函数可以输入任意参数 __0-N__"
   ],
   "cell_type": "markdown",
   "metadata": {}
  },
  {
   "cell_type": "code",
   "execution_count": 20,
   "metadata": {},
   "outputs": [
    {
     "output_type": "stream",
     "name": "stdout",
     "text": [
      "('Testing',)\n"
     ]
    }
   ],
   "source": [
    "def printParams(*params):\n",
    "    print(params)\n",
    "printParams('Testing')"
   ]
  },
  {
   "source": [
    "参数前面的__*__将提供的所有值放在一个元组中"
   ],
   "cell_type": "markdown",
   "metadata": {}
  },
  {
   "cell_type": "code",
   "execution_count": 21,
   "metadata": {},
   "outputs": [
    {
     "output_type": "stream",
     "name": "stdout",
     "text": [
      "Params:\n(1, 2, 3)\n"
     ]
    }
   ],
   "source": [
    "def printParams1(title,*params):\n",
    "    print(title)\n",
    "    print(params)\n",
    "printParams1('Params:',1,2,3)"
   ]
  },
  {
   "source": [
    "如果没有可供收集的参数，*param为空元组"
   ],
   "cell_type": "markdown",
   "metadata": {}
  },
  {
   "cell_type": "code",
   "execution_count": 22,
   "metadata": {},
   "outputs": [
    {
     "output_type": "stream",
     "name": "stdout",
     "text": [
      "Nothing:\n()\n"
     ]
    }
   ],
   "source": [
    "printParams1('Nothing:')"
   ]
  },
  {
   "source": [
    "带星号的参数可以放在其他位置（即不是最后），但是后面的参数需要使用名称来指定（星号不会收集关键字参数）"
   ],
   "cell_type": "markdown",
   "metadata": {}
  },
  {
   "cell_type": "code",
   "execution_count": 19,
   "metadata": {},
   "outputs": [
    {
     "output_type": "stream",
     "name": "stdout",
     "text": [
      "1 (2, 3, 4, 5) 6\n"
     ]
    }
   ],
   "source": [
    "def inMiddle(x,*y,z):\n",
    "    print(x,y,z)\n",
    "inMiddle(1,2,3,4,5,z=6)"
   ]
  },
  {
   "source": [
    "收集关键字参数（__未定义在参数列表__），可使用两个星号 __返回字典__ "
   ],
   "cell_type": "markdown",
   "metadata": {}
  },
  {
   "cell_type": "code",
   "execution_count": 45,
   "metadata": {},
   "outputs": [
    {
     "output_type": "stream",
     "name": "stdout",
     "text": [
      "{'x': 1, 'y': 2, 'z': 3}\n"
     ]
    }
   ],
   "source": [
    "def printParams2(**params):\n",
    "    print(params)\n",
    "printParams2(x=1,y=2,z=3)"
   ]
  },
  {
   "source": [
    "不输入参数时，**Parms为空"
   ],
   "cell_type": "markdown",
   "metadata": {}
  },
  {
   "cell_type": "code",
   "execution_count": 46,
   "metadata": {},
   "outputs": [
    {
     "output_type": "stream",
     "name": "stdout",
     "text": [
      "{}\n"
     ]
    }
   ],
   "source": [
    "printParams2()"
   ]
  },
  {
   "source": [
    "**param代表关键字参数，若只有**param时，不能输入非关键字参数"
   ],
   "cell_type": "markdown",
   "metadata": {}
  },
  {
   "cell_type": "code",
   "execution_count": 51,
   "metadata": {},
   "outputs": [
    {
     "output_type": "error",
     "ename": "TypeError",
     "evalue": "printParams2() takes 0 positional arguments but 1 was given",
     "traceback": [
      "\u001b[0;31m---------------------------------------------------------------------------\u001b[0m",
      "\u001b[0;31mTypeError\u001b[0m                                 Traceback (most recent call last)",
      "\u001b[0;32m<ipython-input-51-0ddc11bdca57>\u001b[0m in \u001b[0;36m<module>\u001b[0;34m()\u001b[0m\n\u001b[0;32m----> 1\u001b[0;31m \u001b[0mprintParams2\u001b[0m\u001b[0;34m(\u001b[0m\u001b[0;36m1\u001b[0m\u001b[0;34m)\u001b[0m\u001b[0;34m\u001b[0m\u001b[0m\n\u001b[0m",
      "\u001b[0;31mTypeError\u001b[0m: printParams2() takes 0 positional arguments but 1 was given"
     ]
    }
   ],
   "source": [
    "printParams2(1)"
   ]
  },
  {
   "source": [
    "## 6.4.5 分配参数"
   ],
   "cell_type": "markdown",
   "metadata": {}
  },
  {
   "cell_type": "code",
   "execution_count": 47,
   "metadata": {},
   "outputs": [
    {
     "output_type": "stream",
     "name": "stdout",
     "text": [
      "3\n3\n"
     ]
    }
   ],
   "source": [
    "def add(x,y):\n",
    "    return x+y\n",
    "print(add(*(1,2)))\n",
    "print(add(**{'x':1,'y':2}))"
   ]
  },
  {
   "source": [
    "# 6.5 作用域"
   ],
   "cell_type": "markdown",
   "metadata": {}
  },
  {
   "source": [
    "vars 返回作用域（命名空间）"
   ],
   "cell_type": "markdown",
   "metadata": {}
  },
  {
   "source": [
    "调用函数 会创建局部命名空间 -> 参数与全局变量重名无妨"
   ],
   "cell_type": "markdown",
   "metadata": {}
  },
  {
   "source": [
    "1.访问全局变量"
   ],
   "cell_type": "markdown",
   "metadata": {}
  },
  {
   "cell_type": "code",
   "execution_count": 48,
   "metadata": {},
   "outputs": [
    {
     "output_type": "stream",
     "name": "stdout",
     "text": [
      "Shrubberry\n"
     ]
    }
   ],
   "source": [
    "def combine(paramter):\n",
    "    print(paramter+external)\n",
    "external='berry'\n",
    "combine('Shrub')"
   ]
  },
  {
   "source": [
    "2.重新关联全局变量"
   ],
   "cell_type": "markdown",
   "metadata": {}
  },
  {
   "cell_type": "code",
   "execution_count": 49,
   "metadata": {},
   "outputs": [
    {
     "output_type": "stream",
     "name": "stdout",
     "text": [
      "2\n3\n[1, 2, 2]\n"
     ]
    }
   ],
   "source": [
    "x=1\n",
    "y=2\n",
    "z=[1,2,3]\n",
    "def changeGlobel():\n",
    "    global x,y\n",
    "    x=x+1\n",
    "    y=x+1\n",
    "    #下述为访问 z[2]\n",
    "    z[2]=2\n",
    "changeGlobel()\n",
    "print(x)\n",
    "print(y)\n",
    "print(z)"
   ]
  },
  {
   "source": [
    "# 6.5 递归 Recursion"
   ],
   "cell_type": "markdown",
   "metadata": {}
  },
  {
   "source": [
    "无穷递归：永远不会结束的函数调用"
   ],
   "cell_type": "markdown",
   "metadata": {}
  },
  {
   "cell_type": "code",
   "execution_count": 50,
   "metadata": {},
   "outputs": [
    {
     "output_type": "error",
     "ename": "RecursionError",
     "evalue": "maximum recursion depth exceeded",
     "traceback": [
      "\u001b[0;31m---------------------------------------------------------------------------\u001b[0m",
      "\u001b[0;31mRecursionError\u001b[0m                            Traceback (most recent call last)",
      "\u001b[0;32m<ipython-input-50-9398507c5910>\u001b[0m in \u001b[0;36m<module>\u001b[0;34m()\u001b[0m\n\u001b[1;32m      1\u001b[0m \u001b[0;32mdef\u001b[0m \u001b[0mrecursion\u001b[0m\u001b[0;34m(\u001b[0m\u001b[0;34m)\u001b[0m\u001b[0;34m:\u001b[0m\u001b[0;34m\u001b[0m\u001b[0m\n\u001b[1;32m      2\u001b[0m     \u001b[0;32mreturn\u001b[0m \u001b[0mrecursion\u001b[0m\u001b[0;34m(\u001b[0m\u001b[0;34m)\u001b[0m\u001b[0;34m\u001b[0m\u001b[0m\n\u001b[0;32m----> 3\u001b[0;31m \u001b[0mrecursion\u001b[0m\u001b[0;34m(\u001b[0m\u001b[0;34m)\u001b[0m\u001b[0;34m\u001b[0m\u001b[0m\n\u001b[0m",
      "\u001b[0;32m<ipython-input-50-9398507c5910>\u001b[0m in \u001b[0;36mrecursion\u001b[0;34m()\u001b[0m\n\u001b[1;32m      1\u001b[0m \u001b[0;32mdef\u001b[0m \u001b[0mrecursion\u001b[0m\u001b[0;34m(\u001b[0m\u001b[0;34m)\u001b[0m\u001b[0;34m:\u001b[0m\u001b[0;34m\u001b[0m\u001b[0m\n\u001b[0;32m----> 2\u001b[0;31m     \u001b[0;32mreturn\u001b[0m \u001b[0mrecursion\u001b[0m\u001b[0;34m(\u001b[0m\u001b[0;34m)\u001b[0m\u001b[0;34m\u001b[0m\u001b[0m\n\u001b[0m\u001b[1;32m      3\u001b[0m \u001b[0mrecursion\u001b[0m\u001b[0;34m(\u001b[0m\u001b[0;34m)\u001b[0m\u001b[0;34m\u001b[0m\u001b[0m\n",
      "... last 1 frames repeated, from the frame below ...\n",
      "\u001b[0;32m<ipython-input-50-9398507c5910>\u001b[0m in \u001b[0;36mrecursion\u001b[0;34m()\u001b[0m\n\u001b[1;32m      1\u001b[0m \u001b[0;32mdef\u001b[0m \u001b[0mrecursion\u001b[0m\u001b[0;34m(\u001b[0m\u001b[0;34m)\u001b[0m\u001b[0;34m:\u001b[0m\u001b[0;34m\u001b[0m\u001b[0m\n\u001b[0;32m----> 2\u001b[0;31m     \u001b[0;32mreturn\u001b[0m \u001b[0mrecursion\u001b[0m\u001b[0;34m(\u001b[0m\u001b[0;34m)\u001b[0m\u001b[0;34m\u001b[0m\u001b[0m\n\u001b[0m\u001b[1;32m      3\u001b[0m \u001b[0mrecursion\u001b[0m\u001b[0;34m(\u001b[0m\u001b[0;34m)\u001b[0m\u001b[0;34m\u001b[0m\u001b[0m\n",
      "\u001b[0;31mRecursionError\u001b[0m: maximum recursion depth exceeded"
     ]
    }
   ],
   "source": [
    "def recursion():\n",
    "    return recursion()\n",
    "recursion()"
   ]
  },
  {
   "source": [
    "正常的递归函数应该包含两个部分：  \n",
    "基线条件：满足这个条件函数将直接返回一个值  \n",
    "递归条件：包含一个或多个函数调用->解决问题的一部分  "
   ],
   "cell_type": "markdown",
   "metadata": {}
  },
  {
   "cell_type": "code",
   "execution_count": 8,
   "metadata": {},
   "outputs": [
    {
     "output_type": "execute_result",
     "data": {
      "text/plain": [
       "3"
      ]
     },
     "metadata": {},
     "execution_count": 8
    }
   ],
   "source": [
    "#Fibonacci sequence 斐波那契数列\n",
    "def fibonacci(n):\n",
    "    assert n>0,'n必须大于0'\n",
    "    if n == 1 or n == 2:\n",
    "        return 1\n",
    "    return fibonacci(n-1)+fibonacci(n-2)\n",
    "fibonacci(4)"
   ]
  }
 ]
}